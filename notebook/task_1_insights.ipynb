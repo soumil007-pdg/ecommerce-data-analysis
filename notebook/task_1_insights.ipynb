{
 "cells": [
  {
   "cell_type": "code",
   "execution_count": 2,
   "id": "b910dfca-b6ae-4653-9a66-585c3ae89991",
   "metadata": {},
   "outputs": [],
   "source": [
    "import pandas as pd"
   ]
  },
  {
   "cell_type": "code",
   "execution_count": 4,
   "id": "50e05b04-1803-42a0-87e6-3d70105accb3",
   "metadata": {},
   "outputs": [],
   "source": [
    "# Load and merge datasets\n",
    "ptc = pd.read_csv(\"Transactions.csv\").merge(pd.read_csv(\"Customers.csv\"), on=\"CustomerID\").merge(pd.read_csv(\"Products.csv\"), on=\"ProductID\")"
   ]
  },
  {
   "cell_type": "code",
   "execution_count": 6,
   "id": "292485ed-4997-47ea-b084-f611fd434b77",
   "metadata": {},
   "outputs": [
    {
     "name": "stdout",
     "output_type": "stream",
     "text": [
      "Revenue by Region:\n",
      " Region\n",
      "South America    219352.56\n",
      "Europe           166254.63\n",
      "North America    152313.40\n",
      "Asia             152074.97\n",
      "Name: TotalValue, dtype: float64\n"
     ]
    }
   ],
   "source": [
    "\n",
    "# Insight 1: Revenue by region\n",
    "revenue_by_region = ptc.groupby(\"Region\")[\"TotalValue\"].sum().sort_values(ascending=False)\n",
    "print(\"Revenue by Region:\\n\", revenue_by_region)"
   ]
  },
  {
   "cell_type": "code",
   "execution_count": 16,
   "id": "6b4bb9b8-df3b-4fce-9995-81cdd17e31c1",
   "metadata": {},
   "outputs": [
    {
     "name": "stdout",
     "output_type": "stream",
     "text": [
      "Sales by Day:\n",
      " TransactionDate\n",
      "Tuesday      163\n",
      "Wednesday    158\n",
      "Thursday     150\n",
      "Sunday       139\n",
      "Monday       139\n",
      "Saturday     126\n",
      "Friday       125\n",
      "Name: count, dtype: int64\n"
     ]
    }
   ],
   "source": [
    "# Insight 2: Sales by day\n",
    "ptc[\"TransactionDate\"] = pd.to_datetime(ptc[\"TransactionDate\"])\n",
    "sales_by_day = ptc[\"TransactionDate\"].dt.day_name().value_counts()\n",
    "print(\"Sales by Day:\\n\", sales_by_day)"
   ]
  },
  {
   "cell_type": "code",
   "execution_count": 18,
   "id": "58857ae8-a194-4fa2-b55f-861c12c59632",
   "metadata": {},
   "outputs": [
    {
     "name": "stdout",
     "output_type": "stream",
     "text": [
      "Top 10% Customers Revenue:\n",
      " 131829.22 (% of total: 19.10580699968562 )\n"
     ]
    }
   ],
   "source": [
    "\n",
    "# Insight 3: Top customers\n",
    "total_spending = ptc.groupby(\"CustomerID\")[\"TotalValue\"].sum().sort_values(ascending=False)\n",
    "top_10_percent = total_spending.head(int(len(total_spending) * 0.1))\n",
    "print(\"Top 10% Customers Revenue:\\n\", top_10_percent.sum(), \"(% of total:\", top_10_percent.sum() / total_spending.sum() * 100, \")\")\n"
   ]
  },
  {
   "cell_type": "code",
   "execution_count": 20,
   "id": "5d6bebde-d461-4e24-af22-b0ba841ddf51",
   "metadata": {},
   "outputs": [
    {
     "name": "stdout",
     "output_type": "stream",
     "text": [
      "Revenue by Category:\n",
      " Category\n",
      "Books          192147.47\n",
      "Electronics    180783.50\n",
      "Clothing       166170.66\n",
      "Home Decor     150893.93\n",
      "Name: TotalValue, dtype: float64\n"
     ]
    }
   ],
   "source": [
    "\n",
    "# Insight 4: Revenue by product category\n",
    "revenue_by_category = ptc.groupby(\"Category\")[\"TotalValue\"].sum().sort_values(ascending=False)\n",
    "print(\"Revenue by Category:\\n\", revenue_by_category)\n"
   ]
  },
  {
   "cell_type": "code",
   "execution_count": 22,
   "id": "4c6a4a19-0ed7-4454-af0b-100d3af5f522",
   "metadata": {},
   "outputs": [
    {
     "name": "stdout",
     "output_type": "stream",
     "text": [
      "Average Spending by Tenure:\n",
      " TenureDays\n",
      "-334    1585.36\n",
      "-305     196.40\n",
      "-301     911.44\n",
      "-298    1252.11\n",
      "-292     635.42\n",
      "Name: TotalValue, dtype: float64\n"
     ]
    }
   ],
   "source": [
    "\n",
    "# Insight 5: Spending by customer tenure\n",
    "ptc[\"SignupDate\"] = pd.to_datetime(ptc[\"SignupDate\"])\n",
    "ptc[\"TenureDays\"] = (ptc[\"TransactionDate\"] - ptc[\"SignupDate\"]).dt.days\n",
    "tenure_spending = ptc.groupby(\"TenureDays\")[\"TotalValue\"].mean()\n",
    "print(\"Average Spending by Tenure:\\n\", tenure_spending.head())"
   ]
  },
  {
   "cell_type": "code",
   "execution_count": null,
   "id": "43bfbfd5-9ebb-4aeb-a6d4-9fb48ac218fc",
   "metadata": {},
   "outputs": [],
   "source": []
  },
  {
   "cell_type": "code",
   "execution_count": null,
   "id": "6dc819d9-f31e-46e1-8b1b-0792705ff5bc",
   "metadata": {},
   "outputs": [],
   "source": []
  }
 ],
 "metadata": {
  "kernelspec": {
   "display_name": "Python [conda env:base] *",
   "language": "python",
   "name": "conda-base-py"
  },
  "language_info": {
   "codemirror_mode": {
    "name": "ipython",
    "version": 3
   },
   "file_extension": ".py",
   "mimetype": "text/x-python",
   "name": "python",
   "nbconvert_exporter": "python",
   "pygments_lexer": "ipython3",
   "version": "3.12.7"
  }
 },
 "nbformat": 4,
 "nbformat_minor": 5
}
