{
 "cells": [
  {
   "cell_type": "code",
   "execution_count": 2,
   "id": "4aa17e03-cacf-4ff4-a046-542bf3f1897d",
   "metadata": {},
   "outputs": [],
   "source": [
    "import pandas as pd"
   ]
  },
  {
   "cell_type": "code",
   "execution_count": 4,
   "id": "790a0d07-eb96-46bb-9b4e-211480a2a62a",
   "metadata": {},
   "outputs": [
    {
     "name": "stdout",
     "output_type": "stream",
     "text": [
      "Cluster Sizes:\n",
      " Cluster\n",
      "0    26\n",
      "1    51\n",
      "2    64\n",
      "3    40\n",
      "4    18\n",
      "dtype: int64\n"
     ]
    }
   ],
   "source": [
    "segments = pd.read_csv(\"CustomerSegments.csv\")\n",
    "print(\"Cluster Sizes:\\n\", segments.groupby(\"Cluster\").size())"
   ]
  },
  {
   "cell_type": "code",
   "execution_count": null,
   "id": "298e94f6-96bb-4eb7-b820-5761d5bda3e8",
   "metadata": {},
   "outputs": [],
   "source": []
  }
 ],
 "metadata": {
  "kernelspec": {
   "display_name": "Python [conda env:base] *",
   "language": "python",
   "name": "conda-base-py"
  },
  "language_info": {
   "codemirror_mode": {
    "name": "ipython",
    "version": 3
   },
   "file_extension": ".py",
   "mimetype": "text/x-python",
   "name": "python",
   "nbconvert_exporter": "python",
   "pygments_lexer": "ipython3",
   "version": "3.12.7"
  }
 },
 "nbformat": 4,
 "nbformat_minor": 5
}
