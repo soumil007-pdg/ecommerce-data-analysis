{
 "cells": [
  {
   "cell_type": "code",
   "execution_count": 25,
   "id": "f2bdae23-73f9-4251-8c24-db8050bf3104",
   "metadata": {},
   "outputs": [],
   "source": [
    "import pandas as pd\n",
    "import numpy as np\n",
    "import matplotlib.pyplot as plt\n",
    "import seaborn as sns\n",
    "from sklearn.preprocessing import StandardScaler\n",
    "from sklearn.metrics.pairwise import cosine_similarity\n"
   ]
  },
  {
   "cell_type": "code",
   "execution_count": 27,
   "id": "67ce34cd-6142-4be1-bae7-c081b77406b0",
   "metadata": {},
   "outputs": [],
   "source": [
    "# Load datasets with error handling\n",
    "try:\n",
    "    C = pd.read_csv(\"Customers.csv\")\n",
    "    P = pd.read_csv(\"Products.csv\")\n",
    "    T = pd.read_csv(\"Transactions.csv\")\n",
    "except FileNotFoundError as e:\n",
    "    print(f\"Error: {e}. Please ensure Customers.csv, Products.csv, and Transactions.csv are in the working directory.\")\n",
    "    exit(1)"
   ]
  },
  {
   "cell_type": "code",
   "execution_count": 29,
   "id": "5b4145a9-6a9c-4c7f-9f35-19e8a07d68be",
   "metadata": {},
   "outputs": [],
   "source": [
    "# Merge datasets\n",
    "ptc = T.merge(P, on=\"ProductID\").merge(C, on=\"CustomerID\")\n",
    "ptc.rename(columns={\"Price_x\": \"Price\"}, inplace=True)\n",
    "ptc.drop(columns=[\"Price_y\"], inplace=True)\n",
    "print(f\"Merged dataset shape: {ptc.shape}\")"
   ]
  },
  {
   "cell_type": "code",
   "execution_count": 31,
   "id": "07d5f997-42ed-4b4b-82d2-9f158a247d34",
   "metadata": {},
   "outputs": [],
   "source": [
    "# Feature engineering\n",
    "total_spending = ptc.groupby(\"CustomerID\")[\"TotalValue\"].sum().reset_index()\n",
    "transaction_count = ptc.groupby(\"CustomerID\")[\"TransactionID\"].count().reset_index()\n",
    "transaction_count.rename(columns={\"TransactionID\": \"TransactionCount\"}, inplace=True)\n",
    "avg_spending = total_spending.merge(transaction_count, on=\"CustomerID\")\n",
    "avg_spending[\"AvgSpendingPerTransaction\"] = avg_spending[\"TotalValue\"] / avg_spending[\"TransactionCount\"]"
   ]
  },
  {
   "cell_type": "code",
   "execution_count": 33,
   "id": "cbb9878d-1d65-41bd-baa1-8f0c44330d70",
   "metadata": {},
   "outputs": [],
   "source": [
    "# Check for NaNs in avg_spending\n",
    "print(\"NaNs in avg_spending:\\n\", avg_spending.isna().sum())"
   ]
  },
  {
   "cell_type": "code",
   "execution_count": 47,
   "id": "ca5b3061-17e9-4332-87b9-2fea1f02cf8f",
   "metadata": {},
   "outputs": [],
   "source": [
    "# Add average days between purchases\n",
    "ptc[\"TransactionDate\"] = pd.to_datetime(ptc[\"TransactionDate\"])\n",
    "ptc = ptc.sort_values([\"CustomerID\", \"TransactionDate\"])\n",
    "ptc[\"prev_purchase\"] = ptc.groupby(\"CustomerID\")[\"TransactionDate\"].shift(1)\n",
    "ptc[\"days_between\"] = (ptc[\"TransactionDate\"] - ptc[\"prev_purchase\"]).dt.days"
   ]
  },
  {
   "cell_type": "code",
   "execution_count": 49,
   "id": "887e74a8-1a23-40d7-8eed-6c0d1bcef0dd",
   "metadata": {},
   "outputs": [
    {
     "name": "stdout",
     "output_type": "stream",
     "text": [
      "NaNs in avg_days:\n",
      " CustomerID      0\n",
      "days_between    0\n",
      "dtype: int64\n"
     ]
    }
   ],
   "source": [
    "\n",
    "# Fill NaNs in days_between with median (excluding NaNs)\n",
    "median_days = ptc[\"days_between\"].median()\n",
    "ptc[\"days_between\"] = ptc[\"days_between\"].fillna(median_days)\n",
    "avg_days = ptc.groupby(\"CustomerID\")[\"days_between\"].mean().reset_index()\n",
    "print(\"NaNs in avg_days:\\n\", avg_days.isna().sum())"
   ]
  },
  {
   "cell_type": "code",
   "execution_count": 51,
   "id": "0136e2ff-733e-477c-8e80-0db022d8843f",
   "metadata": {},
   "outputs": [],
   "source": [
    "\n",
    "# Combine features\n",
    "features = avg_spending[[\"CustomerID\", \"TotalValue\", \"TransactionCount\", \"AvgSpendingPerTransaction\"]]\n",
    "features = features.merge(avg_days, on=\"CustomerID\")"
   ]
  },
  {
   "cell_type": "code",
   "execution_count": 53,
   "id": "0757b5b9-a970-4496-8cb2-6a30f698066e",
   "metadata": {},
   "outputs": [],
   "source": [
    "# Add region\n",
    "features = features.merge(ptc[[\"CustomerID\", \"Region\"]].drop_duplicates(), on=\"CustomerID\")\n",
    "features = pd.get_dummies(features, columns=[\"Region\"], drop_first=True)"
   ]
  },
  {
   "cell_type": "code",
   "execution_count": 55,
   "id": "8186ad42-3217-496d-92e5-1d247db9a734",
   "metadata": {},
   "outputs": [
    {
     "name": "stdout",
     "output_type": "stream",
     "text": [
      "NaNs in features before scaling:\n",
      " CustomerID                   0\n",
      "TotalValue                   0\n",
      "TransactionCount             0\n",
      "AvgSpendingPerTransaction    0\n",
      "days_between                 0\n",
      "Region_Europe                0\n",
      "Region_North America         0\n",
      "Region_South America         0\n",
      "dtype: int64\n",
      "Features shape: (199, 8)\n"
     ]
    }
   ],
   "source": [
    "# Check for NaNs in features before scaling\n",
    "print(\"NaNs in features before scaling:\\n\", features.isna().sum())\n",
    "print(f\"Features shape: {features.shape}\")"
   ]
  },
  {
   "cell_type": "code",
   "execution_count": 57,
   "id": "6de49a94-ba5b-4013-b2fa-f18127ec07a6",
   "metadata": {},
   "outputs": [],
   "source": [
    "# Standardize numerical features\n",
    "scaler = StandardScaler()\n",
    "numerical_cols = [\"TotalValue\", \"TransactionCount\", \"AvgSpendingPerTransaction\", \"days_between\"]\n",
    "features[numerical_cols] = scaler.fit_transform(features[numerical_cols])"
   ]
  },
  {
   "cell_type": "code",
   "execution_count": 59,
   "id": "96976aae-e007-4b6e-9775-0eebaf198192",
   "metadata": {},
   "outputs": [
    {
     "name": "stdout",
     "output_type": "stream",
     "text": [
      "NaNs in features after scaling:\n",
      " CustomerID                   0\n",
      "TotalValue                   0\n",
      "TransactionCount             0\n",
      "AvgSpendingPerTransaction    0\n",
      "days_between                 0\n",
      "Region_Europe                0\n",
      "Region_North America         0\n",
      "Region_South America         0\n",
      "dtype: int64\n"
     ]
    }
   ],
   "source": [
    "# Check for NaNs after scaling\n",
    "print(\"NaNs in features after scaling:\\n\", features.isna().sum())"
   ]
  },
  {
   "cell_type": "code",
   "execution_count": 61,
   "id": "353698b3-40b7-4461-8b87-0f4738e0818a",
   "metadata": {},
   "outputs": [],
   "source": [
    "# Compute cosine similarity\n",
    "try:\n",
    "    similarity_matrix = cosine_similarity(features.drop(\"CustomerID\", axis=1))\n",
    "except ValueError as e:\n",
    "    print(f\"Error in cosine_similarity: {e}\")\n",
    "    print(\"Check features for NaNs or non-numeric values.\")\n",
    "    exit(1)\n",
    "\n",
    "similarity_df = pd.DataFrame(similarity_matrix, index=features[\"CustomerID\"], columns=features[\"CustomerID\"])"
   ]
  },
  {
   "cell_type": "code",
   "execution_count": 63,
   "id": "13985a99-406c-4d9b-adfb-7c34ad97382e",
   "metadata": {},
   "outputs": [
    {
     "name": "stdout",
     "output_type": "stream",
     "text": [
      "Saved lookalike recommendations to Lookalike.csv\n"
     ]
    }
   ],
   "source": [
    "# Generate top 5 similar customers\n",
    "lookalike = []\n",
    "for customer in similarity_df.index:\n",
    "    similar = similarity_df.loc[customer].sort_values(ascending=False)[1:6]\n",
    "    for similar_customer, score in similar.items():\n",
    "        lookalike.append({\"CustomerID\": customer, \"SimilarCustomerID\": similar_customer, \"SimilarityScore\": score})\n",
    "\n",
    "lookalike_df = pd.DataFrame(lookalike)\n",
    "lookalike_df.to_csv(\"Lookalike.csv\", index=False)\n",
    "print(\"Saved lookalike recommendations to Lookalike.csv\")"
   ]
  },
  {
   "cell_type": "code",
   "execution_count": 67,
   "id": "686c0240-9934-4997-82d2-039df973f49d",
   "metadata": {},
   "outputs": [
    {
     "data": {
      "text/plain": [
       "Text(0, 0.5, 'Frequency')"
      ]
     },
     "execution_count": 67,
     "metadata": {},
     "output_type": "execute_result"
    },
    {
     "data": {
      "image/png": "[encoded data removed]",
      "text/plain": [
       "<Figure size 800x500 with 1 Axes>"
      ]
     },
     "metadata": {},
     "output_type": "display_data"
    }
   ],
   "source": [
    "# Visualize similarity scores\n",
    "plt.figure(figsize=(8, 5))\n",
    "sns.histplot(lookalike_df[\"SimilarityScore\"], bins=20)\n",
    "plt.title(\"Distribution of Similarity Scores\")\n",
    "plt.xlabel(\"Similarity Score\")\n",
    "plt.ylabel(\"Frequency\")"
   ]
  },
  {
   "cell_type": "code",
   "execution_count": 69,
   "id": "c92a8511-6fee-437c-bf69-391b7a490fa8",
   "metadata": {},
   "outputs": [
    {
     "name": "stdout",
     "output_type": "stream",
     "text": [
      "Saved similarity score visualization to similarity_scores.png\n"
     ]
    }
   ],
   "source": [
    "plt.savefig(\"similarity_scores.png\")\n",
    "plt.close()\n",
    "print(\"Saved similarity score visualization to similarity_scores.png\")"
   ]
  },
  {
   "cell_type": "code",
   "execution_count": null,
   "id": "a701021b-cabd-4c25-a063-4d56968b0194",
   "metadata": {},
   "outputs": [],
   "source": []
  }
 ],
 "metadata": {
  "kernelspec": {
   "display_name": "Python [conda env:base] *",
   "language": "python",
   "name": "conda-base-py"
  },
  "language_info": {
   "codemirror_mode": {
    "name": "ipython",
    "version": 3
   },
   "file_extension": ".py",
   "mimetype": "text/x-python",
   "name": "python",
   "nbconvert_exporter": "python",
   "pygments_lexer": "ipython3",
   "version": "3.12.7"
  }
 },
 "nbformat": 4,
 "nbformat_minor": 5
}
