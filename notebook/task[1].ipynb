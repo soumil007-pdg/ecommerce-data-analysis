{
 "cells": [
  {
   "cell_type": "code",
   "execution_count": 5,
   "id": "f1c11d29-6687-4801-b29c-2ad0844df47d",
   "metadata": {},
   "outputs": [],
   "source": [
    "import pandas as pd\n",
    "import numpy as np\n",
    "import matplotlib.pyplot as plt\n",
    "import seaborn as sns"
   ]
  },
  {
   "cell_type": "code",
   "execution_count": 7,
   "id": "f66773e4-2b6b-420c-aa9b-0aef4c249205",
   "metadata": {},
   "outputs": [],
   "source": [
    "# Load datasets\n",
    "C = pd.read_csv(\"Customers.csv\")\n",
    "P = pd.read_csv(\"Products.csv\")\n",
    "T = pd.read_csv(\"Transactions.csv\")"
   ]
  },
  {
   "cell_type": "code",
   "execution_count": 9,
   "id": "62d8813d-0a15-49b5-bf70-6c00285ba154",
   "metadata": {},
   "outputs": [],
   "source": [
    "# Merge datasets\n",
    "df = T.merge(C, on=\"CustomerID\", how=\"left\").merge(P, on=\"ProductID\", how=\"left\")"
   ]
  },
  {
   "cell_type": "code",
   "execution_count": 11,
   "id": "75bc76f2-0cde-48d7-8204-0853578b74df",
   "metadata": {},
   "outputs": [],
   "source": [
    "# Total spending per customer\n",
    "customer_value = df.groupby([\"CustomerID\", \"Region\"])[\"TotalValue\"].sum().reset_index()\n",
    "customer_value = customer_value.sort_values(by=\"TotalValue\", ascending=False)"
   ]
  },
  {
   "cell_type": "code",
   "execution_count": 13,
   "id": "6006a8fd-728a-4284-a4d4-99b0f3af970d",
   "metadata": {},
   "outputs": [],
   "source": [
    "# Revenue by region\n",
    "revenue_by_region = df.groupby(\"Region\")[\"TotalValue\"].sum().sort_values(ascending=False)"
   ]
  },
  {
   "cell_type": "code",
   "execution_count": 15,
   "id": "a4993a55-63b2-49ea-9d87-523f074f7b9c",
   "metadata": {},
   "outputs": [],
   "source": [
    "# Revenue by product category\n",
    "revenue_by_category = df.groupby(\"Category\")[\"TotalValue\"].sum().sort_values(ascending=False)"
   ]
  },
  {
   "cell_type": "code",
   "execution_count": 17,
   "id": "0cb559b0-5f6b-4636-9134-24ae66efeba7",
   "metadata": {},
   "outputs": [],
   "source": [
    "# Sales by day of week\n",
    "df[\"TransactionDate\"] = pd.to_datetime(df[\"TransactionDate\"])\n",
    "df[\"DayOfWeek\"] = df[\"TransactionDate\"].dt.day_name()\n",
    "daywise_sales = df.groupby(\"DayOfWeek\")[\"TotalValue\"].sum().reindex(\n",
    "    [\"Monday\", \"Tuesday\", \"Wednesday\", \"Thursday\", \"Friday\", \"Saturday\", \"Sunday\"]\n",
    ").reset_index()"
   ]
  },
  {
   "cell_type": "code",
   "execution_count": 19,
   "id": "ddc45ee9-71e0-46da-8bf2-28004f62a421",
   "metadata": {},
   "outputs": [],
   "source": [
    "# Plot: Sales trend by day of week\n",
    "plt.figure(figsize=(10, 5))\n",
    "x = daywise_sales[\"DayOfWeek\"]\n",
    "y = daywise_sales[\"TotalValue\"]\n",
    "colors = np.where(y.diff() > 0, \"green\", \"red\")\n",
    "for i in range(1, len(x)):\n",
    "    plt.fill_between([x.iloc[i-1], x.iloc[i]], [y.iloc[i-1], y.iloc[i]], color=colors[i], alpha=0.2)\n",
    "sns.lineplot(data=daywise_sales, x=\"DayOfWeek\", y=\"TotalValue\", marker=\"o\", color=\"black\")\n",
    "plt.xlabel(\"Day of Week\")\n",
    "plt.ylabel(\"Total Sales Value\")\n",
    "plt.title(\"Sales Trend by Day of Week\")\n",
    "plt.savefig(\"sales_by_day.png\")\n",
    "plt.close()"
   ]
  },
  {
   "cell_type": "code",
   "execution_count": 21,
   "id": "09f4611e-977f-48c7-9808-bcff886a40f9",
   "metadata": {},
   "outputs": [
    {
     "name": "stderr",
     "output_type": "stream",
     "text": [
      "C:\\Users\\dell\\AppData\\Local\\Temp\\ipykernel_3160\\2723600854.py:3: FutureWarning: \n",
      "\n",
      "Passing `palette` without assigning `hue` is deprecated and will be removed in v0.14.0. Assign the `y` variable to `hue` and set `legend=False` for the same effect.\n",
      "\n",
      "  sns.barplot(x=revenue_by_region.values, y=revenue_by_region.index, palette=\"Blues_d\")\n"
     ]
    }
   ],
   "source": [
    "# Plot: Revenue by region\n",
    "plt.figure(figsize=(8, 6))\n",
    "sns.barplot(x=revenue_by_region.values, y=revenue_by_region.index, palette=\"Blues_d\")\n",
    "plt.xlabel(\"Total Revenue\")\n",
    "plt.ylabel(\"Region\")\n",
    "plt.title(\"Revenue by Region\")\n",
    "plt.savefig(\"revenue_by_region.png\")\n",
    "plt.close()"
   ]
  },
  {
   "cell_type": "code",
   "execution_count": 23,
   "id": "526041bb-264b-4be3-94a7-ec91f27dd200",
   "metadata": {},
   "outputs": [
    {
     "name": "stderr",
     "output_type": "stream",
     "text": [
      "C:\\Users\\dell\\AppData\\Local\\Temp\\ipykernel_3160\\3073739965.py:3: FutureWarning: \n",
      "\n",
      "Passing `palette` without assigning `hue` is deprecated and will be removed in v0.14.0. Assign the `y` variable to `hue` and set `legend=False` for the same effect.\n",
      "\n",
      "  sns.barplot(x=revenue_by_category.values, y=revenue_by_category.index, palette=\"Greens_d\")\n"
     ]
    }
   ],
   "source": [
    "# Plot: Revenue by category\n",
    "plt.figure(figsize=(8, 6))\n",
    "sns.barplot(x=revenue_by_category.values, y=revenue_by_category.index, palette=\"Greens_d\")\n",
    "plt.xlabel(\"Total Revenue\")\n",
    "plt.ylabel(\"Category\")\n",
    "plt.title(\"Revenue by Product Category\")\n",
    "plt.savefig(\"revenue_by_category.png\")\n",
    "plt.close()"
   ]
  },
  {
   "cell_type": "code",
   "execution_count": 25,
   "id": "3900137c-0036-4ed0-adf7-e2c8d83691e8",
   "metadata": {},
   "outputs": [],
   "source": [
    "# Spending by customer tenure\n",
    "df[\"SignupDate\"] = pd.to_datetime(df[\"SignupDate\"])\n",
    "df[\"TenureDays\"] = (df[\"TransactionDate\"] - df[\"SignupDate\"]).dt.days\n",
    "tenure_spending = df.groupby(\"TenureDays\")[\"TotalValue\"].mean().reset_index()"
   ]
  },
  {
   "cell_type": "code",
   "execution_count": 27,
   "id": "12972768-108d-406c-89c5-0056baf268b3",
   "metadata": {},
   "outputs": [],
   "source": [
    "# Plot: Average spending by tenure\n",
    "plt.figure(figsize=(10, 5))\n",
    "sns.scatterplot(data=tenure_spending, x=\"TenureDays\", y=\"TotalValue\", color=\"purple\")\n",
    "plt.xlabel(\"Tenure (Days)\")\n",
    "plt.ylabel(\"Average Spending\")\n",
    "plt.title(\"Average Spending by Customer Tenure\")\n",
    "plt.savefig(\"spending_by_tenure.png\")\n",
    "plt.close()"
   ]
  },
  {
   "cell_type": "code",
   "execution_count": null,
   "id": "abb677d0-0fcf-4332-8b77-820563a33364",
   "metadata": {},
   "outputs": [],
   "source": []
  },
  {
   "cell_type": "code",
   "execution_count": null,
   "id": "be7f2281-0d52-4182-8d61-f08b17c52b3f",
   "metadata": {},
   "outputs": [],
   "source": []
  }
 ],
 "metadata": {
  "kernelspec": {
   "display_name": "Python [conda env:base] *",
   "language": "python",
   "name": "conda-base-py"
  },
  "language_info": {
   "codemirror_mode": {
    "name": "ipython",
    "version": 3
   },
   "file_extension": ".py",
   "mimetype": "text/x-python",
   "name": "python",
   "nbconvert_exporter": "python",
   "pygments_lexer": "ipython3",
   "version": "3.12.7"
  }
 },
 "nbformat": 4,
 "nbformat_minor": 5
}
